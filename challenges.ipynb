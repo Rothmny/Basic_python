{
 "cells": [
  {
   "cell_type": "markdown",
   "metadata": {},
   "source": [
    "Group 2:  \n",
    "- Neang Rothmny  \n",
    "- So Lyhong  \n",
    "- Nhim Keanmuny  "
   ]
  },
  {
   "cell_type": "markdown",
   "metadata": {},
   "source": [
    "challenge 001"
   ]
  },
  {
   "cell_type": "code",
   "execution_count": 2,
   "metadata": {},
   "outputs": [
    {
     "name": "stdout",
     "output_type": "stream",
     "text": [
      "Hello Rothmny\n"
     ]
    }
   ],
   "source": [
    "fName = input(\"Enter your First Name: \")\n",
    "print(\"Hello\",fName)"
   ]
  },
  {
   "cell_type": "markdown",
   "metadata": {},
   "source": [
    "Challeng 002"
   ]
  },
  {
   "cell_type": "code",
   "execution_count": 3,
   "metadata": {},
   "outputs": [
    {
     "name": "stdout",
     "output_type": "stream",
     "text": [
      "Hello Rothmny Neang\n"
     ]
    }
   ],
   "source": [
    "fName = input(\"Enter your First Name: \")\n",
    "lName = input(\"Enter your Last Name: \")\n",
    "print(\"Hello\",fName,lName)"
   ]
  },
  {
   "cell_type": "markdown",
   "metadata": {},
   "source": [
    "Challenge 003"
   ]
  },
  {
   "cell_type": "code",
   "execution_count": 4,
   "metadata": {},
   "outputs": [
    {
     "name": "stdout",
     "output_type": "stream",
     "text": [
      "What do you call a bear with no teeth?\n",
      "A gummy bear\n"
     ]
    }
   ],
   "source": [
    "print(\"What do you call a bear with no teeth?\\nA gummy bear\")"
   ]
  },
  {
   "cell_type": "markdown",
   "metadata": {},
   "source": [
    "Challenge 004"
   ]
  },
  {
   "cell_type": "code",
   "execution_count": 6,
   "metadata": {},
   "outputs": [
    {
     "name": "stdout",
     "output_type": "stream",
     "text": [
      "The total is:  50\n"
     ]
    }
   ],
   "source": [
    "num1 = int(input(\"Enter first number: \"))\n",
    "num2 = int(input(\"Enter second number: \"))\n",
    "print(\"The total is: \", num1 + num2)"
   ]
  },
  {
   "cell_type": "markdown",
   "metadata": {},
   "source": [
    "Challenge 005"
   ]
  },
  {
   "cell_type": "code",
   "execution_count": 9,
   "metadata": {},
   "outputs": [
    {
     "name": "stdout",
     "output_type": "stream",
     "text": [
      "num1 = 10 num2 = 20 num3 = 30\n",
      "The total is:  900\n"
     ]
    }
   ],
   "source": [
    "num1 = int(input(\"Enter first number: \"))\n",
    "num2 = int(input(\"Enter second number: \"))\n",
    "num3 = int(input(\"Enter third number: \"))\n",
    "print(\"num1 =\",num1,\"num2 =\",num2,\"num3 =\",num3)\n",
    "print(\"The total is: \", (num1 + num2) * num3)"
   ]
  },
  {
   "cell_type": "markdown",
   "metadata": {},
   "source": [
    "Challenge 006"
   ]
  },
  {
   "cell_type": "code",
   "execution_count": 10,
   "metadata": {},
   "outputs": [
    {
     "name": "stdout",
     "output_type": "stream",
     "text": [
      "You have 3 slices of pizza left.\n"
     ]
    }
   ],
   "source": [
    "total_slices = int(input(\"How many slices of pizza did you start with? \"))\n",
    "eaten_slices = int(input(\"How many slices of pizza have you eaten? \"))\n",
    "\n",
    "remaining_slices = total_slices - eaten_slices\n",
    "\n",
    "print(\"You have\", remaining_slices, \"slices of pizza left.\")\n"
   ]
  },
  {
   "cell_type": "markdown",
   "metadata": {},
   "source": [
    "Challenge 007"
   ]
  },
  {
   "cell_type": "code",
   "execution_count": 11,
   "metadata": {},
   "outputs": [
    {
     "name": "stdout",
     "output_type": "stream",
     "text": [
      "Rothmny next birthday you will be 21\n"
     ]
    }
   ],
   "source": [
    "name = input(\"What is your name? \")\n",
    "age = int(input(\"How old are you? \"))\n",
    "new_age = age + 1\n",
    "print(name, \"next birthday you will be\", new_age)"
   ]
  },
  {
   "cell_type": "markdown",
   "metadata": {},
   "source": [
    "Challenge 008"
   ]
  },
  {
   "cell_type": "code",
   "execution_count": 13,
   "metadata": {},
   "outputs": [
    {
     "name": "stdout",
     "output_type": "stream",
     "text": [
      "Each person must pay:$ 20.0\n"
     ]
    }
   ],
   "source": [
    "total_price = float(input(\"Enter the total price: \"))\n",
    "num_diners = int(input(\"Enter the number of diners: \"))\n",
    "\n",
    "amount_per_person = total_price / num_diners\n",
    "\n",
    "print(\"Each person must pay:$\", amount_per_person)\n"
   ]
  },
  {
   "cell_type": "markdown",
   "metadata": {},
   "source": [
    "Challenge 009"
   ]
  },
  {
   "cell_type": "code",
   "execution_count": 15,
   "metadata": {},
   "outputs": [
    {
     "name": "stdout",
     "output_type": "stream",
     "text": [
      "In 2 days there are 48 hours or 2880 minutes or 172800 seconds\n"
     ]
    }
   ],
   "source": [
    "num_days = int(input(\"Enter the number of days: \"))\n",
    "hour = num_days * 24 \n",
    "minutes = hour * 60\n",
    "seconds = minutes * 60\n",
    "print(\"In\", num_days, \"days there are\", hour, \"hours or\", minutes, \"minutes or\", seconds, \"seconds\")"
   ]
  },
  {
   "cell_type": "markdown",
   "metadata": {},
   "source": [
    "Challenge 010"
   ]
  },
  {
   "cell_type": "code",
   "execution_count": 17,
   "metadata": {},
   "outputs": [
    {
     "name": "stdout",
     "output_type": "stream",
     "text": [
      "Your weight in kg is: 50.0\n",
      "Your weight in pounds is: 110.2\n"
     ]
    }
   ],
   "source": [
    "weight = float(input(\"Enter your weight in kg: \"))\n",
    "print(\"Your weight in kg is:\", weight)\n",
    "kg_to_pounds = weight * 2.204\n",
    "print(\"Your weight in pounds is:\", kg_to_pounds)"
   ]
  },
  {
   "cell_type": "markdown",
   "metadata": {},
   "source": [
    "Challenge 011"
   ]
  },
  {
   "cell_type": "code",
   "execution_count": 23,
   "metadata": {},
   "outputs": [
    {
     "name": "stdout",
     "output_type": "stream",
     "text": [
      "THe large number is: 333\n",
      "The small number is: 4\n",
      "4 goes into 333 83 times with a remainder of 1.\n"
     ]
    }
   ],
   "source": [
    "larger_num = int(input(\"Enter a number over 100: \"))\n",
    "print(\"THe large number is:\", larger_num)\n",
    "smaller_num = int(input(\"Enter a number under 10: \"))\n",
    "print(\"The small number is:\", smaller_num)\n",
    "\n",
    "# times = larger_num // smaller_num\n",
    "\n",
    "# print(\"The smaller number goes into the larger number\", times, \"times.\")\n",
    "\n",
    "if larger_num % smaller_num == 0:\n",
    "    times = larger_num // smaller_num\n",
    "    print(f\"{smaller_num} goes into {larger_num} exactly {times} times.\")\n",
    "else:\n",
    "    times = larger_num // smaller_num\n",
    "    remainder = larger_num % smaller_num\n",
    "    print(f\"{smaller_num} goes into {larger_num} {times} times with a remainder of {remainder}.\")\n"
   ]
  },
  {
   "cell_type": "markdown",
   "metadata": {},
   "source": [
    "Challenge 012"
   ]
  },
  {
   "cell_type": "code",
   "execution_count": 25,
   "metadata": {},
   "outputs": [
    {
     "name": "stdout",
     "output_type": "stream",
     "text": [
      "The first number is: 30\n",
      "The second number is: 25\n",
      "25 30\n"
     ]
    }
   ],
   "source": [
    "num1 = int(input(\"Enter first number: \"))\n",
    "print(\"The first number is:\", num1)\n",
    "num2 = int(input(\"Enter second number: \"))\n",
    "print(\"The second number is:\", num2)\n",
    "\n",
    "if num1 > num2: print(num2, num1)\n",
    "else: print(num1, num2)"
   ]
  },
  {
   "cell_type": "markdown",
   "metadata": {},
   "source": [
    "Challenge 013"
   ]
  },
  {
   "cell_type": "code",
   "execution_count": 27,
   "metadata": {},
   "outputs": [
    {
     "name": "stdout",
     "output_type": "stream",
     "text": [
      "The number is: 15\n",
      "Thank you\n"
     ]
    }
   ],
   "source": [
    "num= int(input(\"Enter a number under 20: \"))\n",
    "print(\"The number is:\", num)\n",
    "if num >= 20: print(\"Too high\")\n",
    "else: print(\"Thank you\")"
   ]
  },
  {
   "cell_type": "markdown",
   "metadata": {},
   "source": [
    "Challenge 014"
   ]
  },
  {
   "cell_type": "code",
   "execution_count": 28,
   "metadata": {},
   "outputs": [
    {
     "name": "stdout",
     "output_type": "stream",
     "text": [
      "Thank you\n"
     ]
    }
   ],
   "source": [
    "num = int(input(\"Enter a number between 10 and 20: \"))\n",
    "if num > 10 & num < 20: print(\"Thank you\")\n",
    "else: print(\"Incorrect answer\")"
   ]
  },
  {
   "cell_type": "code",
   "execution_count": null,
   "metadata": {},
   "outputs": [],
   "source": []
  }
 ],
 "metadata": {
  "kernelspec": {
   "display_name": "base",
   "language": "python",
   "name": "python3"
  },
  "language_info": {
   "codemirror_mode": {
    "name": "ipython",
    "version": 3
   },
   "file_extension": ".py",
   "mimetype": "text/x-python",
   "name": "python",
   "nbconvert_exporter": "python",
   "pygments_lexer": "ipython3",
   "version": "3.11.4"
  }
 },
 "nbformat": 4,
 "nbformat_minor": 2
}
